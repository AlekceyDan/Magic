{
  "nbformat": 4,
  "nbformat_minor": 0,
  "metadata": {
    "colab": {
      "name": "3d.ipynb",
      "provenance": []
    },
    "kernelspec": {
      "display_name": "Python 3",
      "name": "python3"
    }
  },
  "cells": [
    {
      "cell_type": "markdown",
      "metadata": {
        "id": "mxv3IyB4ycl8"
      },
      "source": [
        "# **Необходимые библиотеки**"
      ]
    },
    {
      "cell_type": "code",
      "metadata": {
        "id": "5giSd_F8yZNd"
      },
      "source": [
        "import cv2\r\n",
        "import numpy as np"
      ],
      "execution_count": 22,
      "outputs": []
    },
    {
      "cell_type": "markdown",
      "metadata": {
        "id": "XEmf5Y7Hyk4m"
      },
      "source": [
        "# **Подготовка изображения к созданию модели**\r\n"
      ]
    },
    {
      "cell_type": "code",
      "metadata": {
        "id": "0AzwyyBzyiGq"
      },
      "source": [
        "fileStl='example.stl'\r\n",
        "fileIm=r'12.jpg'\r\n",
        "stl=open(fileStl, 'w')\r\n",
        "\r\n",
        "im=cv2.imread(fileIm)\r\n",
        "''' \r\n",
        "    *\r\n",
        "    * Чтобы не было резких границ сгаживаем, а также нормируем чтобы несильно вытянутой была модель \r\n",
        "    *\r\n",
        "'''\r\n",
        "im = cv2.normalize(im, im, 0, 20, norm_type=cv2.NORM_MINMAX)\r\n",
        "im = cv2.GaussianBlur(im,(0,0),2)\r\n",
        "\r\n",
        "im = cv2.cvtColor(im, cv2.COLOR_BGR2GRAY)\r\n",
        "\r\n",
        "im=cv2.resize(im,(300,100))\r\n",
        "#gray = 255-gray\r\n",
        "#blur = cv2.resize(blur,(400,400))\r\n",
        "#gray = cv2.normalize(gray, None, alpha=0, beta=1, norm_type=cv2.NORM_MINMAX, dtype=cv2.CV_32F)"
      ],
      "execution_count": 28,
      "outputs": []
    },
    {
      "cell_type": "markdown",
      "metadata": {
        "id": "ADm7vjlE1iD8"
      },
      "source": [
        "# **Устройство STL-формата**\r\n"
      ]
    },
    {
      "cell_type": "code",
      "metadata": {
        "id": "6b3z-Kd-44fv"
      },
      "source": [
        "solid name # название\r\n",
        "facet normal 0 0 0\r\n",
        "outer loop\r\n",
        "vertex cd_1[0] cd_1[1] cd_1[2] # первая вершина треугольника\r\n",
        "vertex cd_2[0] cd_2[1] cd_2[2] # вторая вершина треугольника\r\n",
        "vertex cd_3[0] cd_3[1] cd_3[2] # третья вершина треугольника\r\n",
        "endloop\r\n",
        "endfacet\r\n",
        "endsolid"
      ],
      "execution_count": null,
      "outputs": []
    },
    {
      "cell_type": "markdown",
      "metadata": {
        "id": "62Wyhpq1zH-n"
      },
      "source": [
        "# **Начинаем накладывать треугольную сетку**\r\n",
        "\r\n",
        "По сути выдавливаем нашу модель из изображения"
      ]
    },
    {
      "cell_type": "markdown",
      "metadata": {
        "id": "kVZrruF3ChSn"
      },
      "source": [
        "![gignces3tiqs1wmvxzzitehiaya.png](data:image/png;base64,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)"
      ]
    },
    {
      "cell_type": "code",
      "metadata": {
        "id": "3l31b2JE5cFS"
      },
      "source": [
        "\r\n",
        "# Функция по созданию треугольника\r\n",
        "def makeTriangle(cd_1, cd_2, cd_3):\r\n",
        "    stl.write(o_1+\"facet normal 0 0 0\")\r\n",
        "    stl.write(o_2 + \"outer loop\")\r\n",
        "    stl.write(o_3 + \"vertex \" + \" \".join(cd_1))\r\n",
        "    stl.write(o_3 + \"vertex \" + \" \".join(cd_2))\r\n",
        "    stl.write(o_3 + \"vertex \" + \" \".join(cd_3))\r\n",
        "    stl.write(o_2 + \"endloop \\n\\tendfacet\")\r\n",
        " "
      ],
      "execution_count": 24,
      "outputs": []
    },
    {
      "cell_type": "code",
      "metadata": {
        "colab": {
          "base_uri": "https://localhost:8080/"
        },
        "id": "RYchnnfn4zxx",
        "outputId": "2db54a3a-8f35-4f2e-8972-823cb7c6fcde"
      },
      "source": [
        "\n",
        "x=0\n",
        "y=0\n",
        "cd_1=['0', '0', '0'] #первая вершина треульника в формате (x, y, intensity)\n",
        "cd_2=['0', '0', '0'] #вторая вершина треульника в формате (x, y, intensity)\n",
        "cd_3=['0', '0', '0'] #третья вершина треульника в формате (x, y, intensity)\n",
        "\n",
        "file='STL_project-1.stl'\n",
        "\n",
        "o_1=\"\\n\\t\" \n",
        "o_2=\"\\n\\t\\t\"\n",
        "o_3=\"\\n\\t\\t\\t\"\n",
        "\n",
        "stl.write(\"solid\")\n",
        "\n",
        "# Делаем основу модели\n",
        "for i in range(im.shape[1]-1):\n",
        "      cd_1=[str(i),\"0\",\"0\"]\n",
        "      cd_3=[str(i+1),str(im.shape[0]-1),\"0\"]\n",
        "      cd_2=[str(i),str(im.shape[0]-1),\"0\"]\n",
        "      makeTriangle(cd_1, cd_2, cd_3)     \n",
        "for i in range(im.shape[1]-1):\n",
        "      cd_1=[str(i+1),str(im.shape[0]-1),\"0\"]\n",
        "      cd_3=[str(i),\"0\",\"0\"]\n",
        "      cd_2=[str(i+1),\"0\",\"0\"]\n",
        "      makeTriangle(cd_1, cd_2, cd_3)\n",
        "\n",
        "# Делаем рельеф\n",
        "for i in range(im.shape[1]):\n",
        "        for k in range(im.shape[0]-1):\n",
        "            if i!=im.shape[1]-1:\n",
        "                    try:\n",
        "                        \n",
        "                        cd_1=[str(i),     str(k),   str(im[k, i])   ]\n",
        "                        cd_2=[str(i + 1), str(k),   str(im[k, i+1]) ]\n",
        "                        cd_3=[str(i+1),   str(k+1), str(im[k+1,i+1])] \n",
        "                     \n",
        "                    except:\n",
        "                        print('er')\n",
        "                    makeTriangle(cd_1, cd_2, cd_3)\n",
        "                    try:\n",
        "                        cd_1=[str(i),  str(k),   str(im[k, i])    ]\n",
        "                        cd_2=[str(i+1),str(k+1), str(im[k+1, i+1])]\n",
        "                        cd_3=[str(i),  str(k+1), str(im[k+1,i])   ]   \n",
        "                    except:\n",
        "                        print('er')\n",
        "                    makeTriangle(cd_1, cd_2, cd_3)\n",
        "\n",
        "print('Done!')"
      ],
      "execution_count": 29,
      "outputs": [
        {
          "output_type": "stream",
          "text": [
            "Done!\n"
          ],
          "name": "stdout"
        }
      ]
    }
  ]
}